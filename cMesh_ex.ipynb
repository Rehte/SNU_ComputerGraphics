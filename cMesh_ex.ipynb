{
 "cells": [
  {
   "cell_type": "code",
   "execution_count": 1,
   "metadata": {},
   "outputs": [],
   "source": [
    "from cMesh_operations import *"
   ]
  },
  {
   "cell_type": "code",
   "execution_count": 2,
   "metadata": {},
   "outputs": [],
   "source": [
    "a = cMesh()\n",
    "# a.read_obj('./model/Subdivision/cube.obj')\n",
    "# a.read_obj('./model/Subdivision/cross_cube.obj')\n",
    "a.read_obj('./model/Subdivision/icosahedron.obj')"
   ]
  },
  {
   "cell_type": "code",
   "execution_count": 3,
   "metadata": {},
   "outputs": [
    {
     "name": "stdout",
     "output_type": "stream",
     "text": [
      "0\n",
      "1\n",
      "2\n",
      "3\n",
      "4\n",
      "5\n",
      "6\n",
      "7\n",
      "8\n",
      "9\n",
      "10\n",
      "11\n"
     ]
    }
   ],
   "source": [
    "for v in a.verts:\n",
    "    print(v.i)"
   ]
  },
  {
   "cell_type": "code",
   "execution_count": 4,
   "metadata": {},
   "outputs": [
    {
     "name": "stdout",
     "output_type": "stream",
     "text": [
      "0 1 [0, 1]\n",
      "1 2 [1, 2]\n",
      "2 0 [2, 0]\n",
      "2 3 [2, 3]\n",
      "3 0 [3, 0]\n",
      "3 4 [3, 4]\n",
      "4 0 [4, 0]\n",
      "4 5 [4, 5]\n",
      "5 0 [5, 0]\n",
      "5 1 [5, 1]\n",
      "5 7 [5, 7]\n",
      "7 1 [7, 1]\n",
      "7 6 [7, 6]\n",
      "6 1 [6, 1]\n",
      "6 2 [6, 2]\n",
      "6 8 [6, 8]\n",
      "8 2 [8, 2]\n",
      "8 3 [8, 3]\n",
      "8 9 [8, 9]\n",
      "9 3 [9, 3]\n",
      "9 4 [9, 4]\n",
      "9 10 [9, 10]\n",
      "10 4 [10, 4]\n",
      "10 5 [10, 5]\n",
      "10 7 [10, 7]\n",
      "7 11 [7, 11]\n",
      "11 6 [11, 6]\n",
      "11 8 [11, 8]\n",
      "10 11 [10, 11]\n",
      "11 9 [11, 9]\n"
     ]
    }
   ],
   "source": [
    "for e in a.edges:\n",
    "    print(e.v0.i, e.v1.i, [l.v.i for l in e.l])"
   ]
  },
  {
   "cell_type": "code",
   "execution_count": 5,
   "metadata": {},
   "outputs": [
    {
     "name": "stdout",
     "output_type": "stream",
     "text": [
      "30 60\n",
      "0\n",
      "1\n",
      "2\n",
      "0\n",
      "2\n",
      "3\n",
      "0\n",
      "3\n",
      "4\n",
      "0\n",
      "4\n",
      "5\n",
      "0\n",
      "5\n",
      "1\n",
      "1\n",
      "5\n",
      "7\n",
      "1\n",
      "7\n",
      "6\n",
      "1\n",
      "6\n",
      "2\n",
      "2\n",
      "6\n",
      "8\n",
      "2\n",
      "8\n",
      "3\n",
      "3\n",
      "8\n",
      "9\n",
      "3\n",
      "9\n",
      "4\n",
      "4\n",
      "9\n",
      "10\n",
      "4\n",
      "10\n",
      "5\n",
      "5\n",
      "10\n",
      "7\n",
      "6\n",
      "7\n",
      "11\n",
      "6\n",
      "11\n",
      "8\n",
      "7\n",
      "10\n",
      "11\n",
      "8\n",
      "11\n",
      "9\n",
      "9\n",
      "11\n",
      "10\n"
     ]
    }
   ],
   "source": [
    "print(len(a.edges), len(a.loops))\n",
    "for l in a.loops:\n",
    "    print(l.v.i)"
   ]
  },
  {
   "cell_type": "code",
   "execution_count": 6,
   "metadata": {},
   "outputs": [
    {
     "name": "stdout",
     "output_type": "stream",
     "text": [
      "[0, 1, 2] 0\n",
      "[0, 2, 3] 0\n",
      "[0, 3, 4] 0\n",
      "[0, 4, 5] 0\n",
      "[0, 5, 1] 0\n",
      "[1, 5, 7] 1\n",
      "[1, 7, 6] 1\n",
      "[1, 6, 2] 1\n",
      "[2, 6, 8] 2\n",
      "[2, 8, 3] 2\n",
      "[3, 8, 9] 3\n",
      "[3, 9, 4] 3\n",
      "[4, 9, 10] 4\n",
      "[4, 10, 5] 4\n",
      "[5, 10, 7] 5\n",
      "[6, 7, 11] 6\n",
      "[6, 11, 8] 6\n",
      "[7, 10, 11] 7\n",
      "[8, 11, 9] 8\n",
      "[9, 11, 10] 9\n"
     ]
    }
   ],
   "source": [
    "for f in a.faces:\n",
    "    print(f.indices, f.l.v.i)"
   ]
  },
  {
   "cell_type": "code",
   "execution_count": 7,
   "metadata": {},
   "outputs": [],
   "source": [
    "n = a.subdivide_halfEdge()\n"
   ]
  },
  {
   "cell_type": "code",
   "execution_count": 8,
   "metadata": {},
   "outputs": [
    {
     "data": {
      "text/plain": [
       "[-1.3333333358511724e-08, 4.440892098500626e-18, 0.9589576999999998]"
      ]
     },
     "execution_count": 8,
     "metadata": {},
     "output_type": "execute_result"
    }
   ],
   "source": [
    "a.quadMesh.vertices[0:3]"
   ]
  },
  {
   "cell_type": "code",
   "execution_count": 9,
   "metadata": {},
   "outputs": [],
   "source": [
    "a.toEdgeFriend()"
   ]
  },
  {
   "cell_type": "code",
   "execution_count": 12,
   "metadata": {},
   "outputs": [],
   "source": [
    "a.quadMesh.subdivide()"
   ]
  },
  {
   "cell_type": "code",
   "execution_count": 13,
   "metadata": {},
   "outputs": [
    {
     "name": "stdout",
     "output_type": "stream",
     "text": [
      "Subdivided Mesh exported to ./model/Subdivision/test.obj\n"
     ]
    }
   ],
   "source": [
    "a.export_obj_subdivided(\"./model/Subdivision/test.obj\")"
   ]
  },
  {
   "cell_type": "code",
   "execution_count": 8,
   "metadata": {},
   "outputs": [],
   "source": [
    "a = np.array([9, 3, 1])"
   ]
  },
  {
   "cell_type": "code",
   "execution_count": 10,
   "metadata": {},
   "outputs": [
    {
     "data": {
      "text/plain": [
       "'9 3 1'"
      ]
     },
     "execution_count": 10,
     "metadata": {},
     "output_type": "execute_result"
    }
   ],
   "source": [
    "tot = []\n",
    "\" \".join([str(i) for i in a])\n"
   ]
  },
  {
   "cell_type": "code",
   "execution_count": 25,
   "metadata": {},
   "outputs": [
    {
     "data": {
      "text/plain": [
       "960"
      ]
     },
     "execution_count": 25,
     "metadata": {},
     "output_type": "execute_result"
    },
    {
     "ename": "",
     "evalue": "",
     "output_type": "error",
     "traceback": [
      "\u001b[1;31mThe Kernel crashed while executing code in the current cell or a previous cell. \n",
      "\u001b[1;31mPlease review the code in the cell(s) to identify a possible cause of the failure. \n",
      "\u001b[1;31mClick <a href='https://aka.ms/vscodeJupyterKernelCrash'>here</a> for more info. \n",
      "\u001b[1;31mView Jupyter <a href='command:jupyter.viewOutput'>log</a> for further details."
     ]
    }
   ],
   "source": [
    "len(a.quadMesh.edgeFriend.i)"
   ]
  },
  {
   "cell_type": "code",
   "execution_count": 9,
   "metadata": {},
   "outputs": [],
   "source": [
    "a.toEdgeFriend()"
   ]
  },
  {
   "cell_type": "code",
   "execution_count": 14,
   "metadata": {},
   "outputs": [
    {
     "name": "stdout",
     "output_type": "stream",
     "text": [
      "26\n",
      "24\n",
      "30\n",
      "24\n"
     ]
    }
   ],
   "source": [
    "startl = f.l\n",
    "print(startl.v.i)\n",
    "print(startl.ln.v.i)\n",
    "print(startl.lp.v.i)\n",
    "\n",
    "l = startl.ln\n",
    "print(l.v.i)\n"
   ]
  },
  {
   "cell_type": "code",
   "execution_count": 15,
   "metadata": {},
   "outputs": [
    {
     "name": "stdout",
     "output_type": "stream",
     "text": [
      "24 26 28\n",
      "28 24 30\n",
      "30 28 26\n"
     ]
    }
   ],
   "source": [
    "while(l != startl):\n",
    "    print(l.v.i, l.lp.v.i, l.ln.v.i)\n",
    "    l = l.ln"
   ]
  },
  {
   "cell_type": "code",
   "execution_count": 16,
   "metadata": {},
   "outputs": [
    {
     "data": {
      "text/plain": [
       "2"
      ]
     },
     "execution_count": 16,
     "metadata": {},
     "output_type": "execute_result"
    }
   ],
   "source": [
    "len(a.verts) - len(a.edges) + len(a.faces)"
   ]
  }
 ],
 "metadata": {
  "kernelspec": {
   "display_name": "base",
   "language": "python",
   "name": "python3"
  },
  "language_info": {
   "codemirror_mode": {
    "name": "ipython",
    "version": 3
   },
   "file_extension": ".py",
   "mimetype": "text/x-python",
   "name": "python",
   "nbconvert_exporter": "python",
   "pygments_lexer": "ipython3",
   "version": "3.11.5"
  }
 },
 "nbformat": 4,
 "nbformat_minor": 2
}

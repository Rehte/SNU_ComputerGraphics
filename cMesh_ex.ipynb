{
 "cells": [
  {
   "cell_type": "code",
   "execution_count": 1,
   "metadata": {},
   "outputs": [],
   "source": [
    "from cMesh_operations import *\n",
    "from cMesh_extrusion import *"
   ]
  },
  {
   "cell_type": "code",
   "execution_count": 2,
   "metadata": {},
   "outputs": [],
   "source": [
    "a = cMesh()\n",
    "# a.read_obj('./model/Subdivision/cube.obj')\n",
    "a.read_obj('./model/Subdivision/cross_cube.obj')\n",
    "# a.read_obj('./model/Subdivision/icosahedron.obj')\n",
    "# a.read_obj('./model/Subdivision/cube.obj')"
   ]
  },
  {
   "cell_type": "code",
   "execution_count": 10,
   "metadata": {},
   "outputs": [],
   "source": [
    "a.face_extrude(a.faces[0])"
   ]
  },
  {
   "cell_type": "code",
   "execution_count": 4,
   "metadata": {},
   "outputs": [
    {
     "name": "stdout",
     "output_type": "stream",
     "text": [
      "0\n",
      "1\n",
      "2\n",
      "3\n",
      "4\n",
      "5\n",
      "6\n",
      "7\n",
      "8\n",
      "9\n",
      "10\n",
      "11\n",
      "12\n",
      "13\n",
      "14\n",
      "15\n",
      "16\n",
      "17\n",
      "18\n",
      "19\n",
      "20\n",
      "21\n",
      "22\n",
      "23\n",
      "24\n",
      "25\n",
      "26\n",
      "27\n",
      "28\n",
      "29\n",
      "30\n",
      "31\n",
      "32\n",
      "33\n",
      "34\n",
      "35\n",
      "36\n",
      "37\n",
      "38\n",
      "39\n"
     ]
    }
   ],
   "source": [
    "for v in a.verts:\n",
    "    print(v.i)"
   ]
  },
  {
   "cell_type": "code",
   "execution_count": 13,
   "metadata": {},
   "outputs": [
    {
     "name": "stdout",
     "output_type": "stream",
     "text": [
      "3 7 [7, 3]\n",
      "7 15 [15, 7]\n",
      "15 11 [11, 15]\n",
      "11 3 [3, 11]\n",
      "7 6 [7, 6]\n",
      "6 14 [6, 14]\n",
      "14 15 [14, 15]\n",
      "11 10 [11, 10]\n",
      "10 2 [10, 2]\n",
      "2 3 [2, 3]\n",
      "14 10 [14, 10]\n",
      "2 6 [2, 6]\n",
      "0 8 [0, 8]\n",
      "8 12 [8, 12]\n",
      "12 4 [12, 4]\n",
      "4 0 [4, 0]\n",
      "8 9 [8, 9]\n",
      "9 13 [9, 13]\n",
      "13 12 [13, 12]\n",
      "13 5 [13, 5]\n",
      "5 4 [5, 4]\n",
      "0 1 [0, 1]\n",
      "1 9 [1, 9]\n",
      "5 1 [5, 1]\n",
      "6 21 [6, 21]\n",
      "21 23 [21, 23]\n",
      "23 14 [23, 14]\n",
      "13 19 [13, 19]\n",
      "19 17 [19, 17]\n",
      "17 5 [17, 5]\n",
      "21 17 [21, 17]\n",
      "19 23 [19, 23]\n",
      "13 14 [13, 14]\n",
      "6 5 [6, 5]\n",
      "20 2 [20, 2]\n",
      "10 22 [10, 22]\n",
      "22 20 [22, 20]\n",
      "18 9 [18, 9]\n",
      "1 16 [1, 16]\n",
      "16 18 [16, 18]\n",
      "22 18 [22, 18]\n",
      "16 20 [16, 20]\n",
      "10 9 [10, 9]\n",
      "1 2 [1, 2]\n",
      "14 31 [14, 31]\n",
      "31 27 [31, 27]\n",
      "27 10 [27, 10]\n",
      "9 25 [9, 25]\n",
      "25 29 [25, 29]\n",
      "29 13 [29, 13]\n",
      "29 31 [29, 31]\n",
      "27 25 [27, 25]\n",
      "2 26 [2, 26]\n",
      "26 30 [26, 30]\n",
      "30 6 [30, 6]\n",
      "5 28 [5, 28]\n",
      "28 24 [28, 24]\n",
      "24 1 [24, 1]\n",
      "30 28 [30, 28]\n",
      "24 26 [24, 26]\n",
      "32 33 [32, 33]\n",
      "33 34 [33, 34]\n",
      "34 35 [34, 35]\n",
      "35 32 [35, 32]\n",
      "7 33 [7, 33]\n",
      "32 3 [32, 3]\n",
      "15 34 [15, 34]\n",
      "11 35 [11, 35]\n"
     ]
    }
   ],
   "source": [
    "for e in a.edges:\n",
    "    print(e.v0.i, e.v1.i, [l.v.i for l in e.l])"
   ]
  },
  {
   "cell_type": "code",
   "execution_count": 14,
   "metadata": {},
   "outputs": [
    {
     "name": "stdout",
     "output_type": "stream",
     "text": [
      "68 136\n",
      "7\n",
      "6\n",
      "14\n",
      "15\n",
      "3\n",
      "11\n",
      "10\n",
      "2\n",
      "11\n",
      "15\n",
      "14\n",
      "10\n",
      "2\n",
      "6\n",
      "7\n",
      "3\n",
      "0\n",
      "8\n",
      "12\n",
      "4\n",
      "8\n",
      "9\n",
      "13\n",
      "12\n",
      "13\n",
      "5\n",
      "4\n",
      "12\n",
      "9\n",
      "8\n",
      "0\n",
      "1\n",
      "5\n",
      "1\n",
      "0\n",
      "4\n",
      "14\n",
      "6\n",
      "21\n",
      "23\n",
      "13\n",
      "19\n",
      "17\n",
      "5\n",
      "23\n",
      "21\n",
      "17\n",
      "19\n",
      "14\n",
      "23\n",
      "19\n",
      "13\n",
      "6\n",
      "5\n",
      "17\n",
      "21\n",
      "20\n",
      "2\n",
      "10\n",
      "22\n",
      "18\n",
      "9\n",
      "1\n",
      "16\n",
      "22\n",
      "18\n",
      "16\n",
      "20\n",
      "22\n",
      "10\n",
      "9\n",
      "18\n",
      "20\n",
      "16\n",
      "1\n",
      "2\n",
      "10\n",
      "14\n",
      "31\n",
      "27\n",
      "9\n",
      "25\n",
      "29\n",
      "13\n",
      "31\n",
      "14\n",
      "13\n",
      "29\n",
      "10\n",
      "27\n",
      "25\n",
      "9\n",
      "27\n",
      "31\n",
      "29\n",
      "25\n",
      "2\n",
      "26\n",
      "30\n",
      "6\n",
      "1\n",
      "5\n",
      "28\n",
      "24\n",
      "6\n",
      "30\n",
      "28\n",
      "5\n",
      "2\n",
      "1\n",
      "24\n",
      "26\n",
      "26\n",
      "24\n",
      "28\n",
      "30\n",
      "32\n",
      "33\n",
      "34\n",
      "35\n",
      "3\n",
      "7\n",
      "33\n",
      "32\n",
      "7\n",
      "15\n",
      "34\n",
      "33\n",
      "15\n",
      "11\n",
      "35\n",
      "34\n",
      "11\n",
      "3\n",
      "32\n",
      "35\n"
     ]
    }
   ],
   "source": [
    "print(len(a.edges), len(a.loops))\n",
    "for l in a.loops:\n",
    "    print(l.v.i)"
   ]
  },
  {
   "cell_type": "code",
   "execution_count": 15,
   "metadata": {},
   "outputs": [
    {
     "name": "stdout",
     "output_type": "stream",
     "text": [
      "[7, 6, 14, 15] 7\n",
      "[3, 11, 10, 2] 3\n",
      "[11, 15, 14, 10] 11\n",
      "[2, 6, 7, 3] 2\n",
      "[0, 8, 12, 4] 0\n",
      "[8, 9, 13, 12] 8\n",
      "[13, 5, 4, 12] 13\n",
      "[9, 8, 0, 1] 9\n",
      "[5, 1, 0, 4] 5\n",
      "[14, 6, 21, 23] 14\n",
      "[13, 19, 17, 5] 13\n",
      "[23, 21, 17, 19] 23\n",
      "[14, 23, 19, 13] 14\n",
      "[6, 5, 17, 21] 6\n",
      "[20, 2, 10, 22] 20\n",
      "[18, 9, 1, 16] 18\n",
      "[22, 18, 16, 20] 22\n",
      "[22, 10, 9, 18] 22\n",
      "[20, 16, 1, 2] 20\n",
      "[10, 14, 31, 27] 10\n",
      "[9, 25, 29, 13] 9\n",
      "[31, 14, 13, 29] 31\n",
      "[10, 27, 25, 9] 10\n",
      "[27, 31, 29, 25] 27\n",
      "[2, 26, 30, 6] 2\n",
      "[1, 5, 28, 24] 1\n",
      "[6, 30, 28, 5] 6\n",
      "[2, 1, 24, 26] 2\n",
      "[26, 24, 28, 30] 26\n",
      "[32, 33, 34, 35] 32\n",
      "[3, 7, 33, 32] 3\n",
      "[7, 15, 34, 33] 7\n",
      "[15, 11, 35, 34] 15\n",
      "[11, 3, 32, 35] 11\n"
     ]
    }
   ],
   "source": [
    "for f in a.faces:\n",
    "    print(f.indices, f.l.v.i)"
   ]
  },
  {
   "cell_type": "code",
   "execution_count": 5,
   "metadata": {},
   "outputs": [],
   "source": [
    "n = a.subdivide_halfEdge()\n",
    "\n"
   ]
  },
  {
   "cell_type": "code",
   "execution_count": 7,
   "metadata": {},
   "outputs": [
    {
     "data": {
      "text/plain": [
       "[-0.75, -0.75, 0.75]"
      ]
     },
     "execution_count": 7,
     "metadata": {},
     "output_type": "execute_result"
    }
   ],
   "source": [
    "a.quadMesh.vertices[0:3]"
   ]
  },
  {
   "cell_type": "code",
   "execution_count": 11,
   "metadata": {},
   "outputs": [],
   "source": [
    "a.toEdgeFriend()"
   ]
  },
  {
   "cell_type": "code",
   "execution_count": 13,
   "metadata": {},
   "outputs": [],
   "source": [
    "a.subdivide()"
   ]
  },
  {
   "cell_type": "code",
   "execution_count": 14,
   "metadata": {},
   "outputs": [
    {
     "name": "stdout",
     "output_type": "stream",
     "text": [
      "Subdivided Mesh exported to ./model/Subdivision/test_ext.obj\n"
     ]
    }
   ],
   "source": [
    "a.export_obj_subdivided(\"./model/Subdivision/test_ext.obj\")"
   ]
  },
  {
   "cell_type": "code",
   "execution_count": 8,
   "metadata": {},
   "outputs": [],
   "source": [
    "a = np.array([9, 3, 1])"
   ]
  },
  {
   "cell_type": "code",
   "execution_count": 10,
   "metadata": {},
   "outputs": [
    {
     "data": {
      "text/plain": [
       "'9 3 1'"
      ]
     },
     "execution_count": 10,
     "metadata": {},
     "output_type": "execute_result"
    }
   ],
   "source": [
    "tot = []\n",
    "\" \".join([str(i) for i in a])\n"
   ]
  },
  {
   "cell_type": "code",
   "execution_count": 25,
   "metadata": {},
   "outputs": [
    {
     "data": {
      "text/plain": [
       "960"
      ]
     },
     "execution_count": 25,
     "metadata": {},
     "output_type": "execute_result"
    },
    {
     "ename": "",
     "evalue": "",
     "output_type": "error",
     "traceback": [
      "\u001b[1;31mThe Kernel crashed while executing code in the current cell or a previous cell. \n",
      "\u001b[1;31mPlease review the code in the cell(s) to identify a possible cause of the failure. \n",
      "\u001b[1;31mClick <a href='https://aka.ms/vscodeJupyterKernelCrash'>here</a> for more info. \n",
      "\u001b[1;31mView Jupyter <a href='command:jupyter.viewOutput'>log</a> for further details."
     ]
    }
   ],
   "source": [
    "len(a.quadMesh.edgeFriend.i)"
   ]
  },
  {
   "cell_type": "code",
   "execution_count": 9,
   "metadata": {},
   "outputs": [],
   "source": [
    "a.toEdgeFriend()"
   ]
  },
  {
   "cell_type": "code",
   "execution_count": 14,
   "metadata": {},
   "outputs": [
    {
     "name": "stdout",
     "output_type": "stream",
     "text": [
      "26\n",
      "24\n",
      "30\n",
      "24\n"
     ]
    }
   ],
   "source": [
    "startl = f.l\n",
    "print(startl.v.i)\n",
    "print(startl.ln.v.i)\n",
    "print(startl.lp.v.i)\n",
    "\n",
    "l = startl.ln\n",
    "print(l.v.i)\n"
   ]
  },
  {
   "cell_type": "code",
   "execution_count": 15,
   "metadata": {},
   "outputs": [
    {
     "name": "stdout",
     "output_type": "stream",
     "text": [
      "24 26 28\n",
      "28 24 30\n",
      "30 28 26\n"
     ]
    }
   ],
   "source": [
    "while(l != startl):\n",
    "    print(l.v.i, l.lp.v.i, l.ln.v.i)\n",
    "    l = l.ln"
   ]
  },
  {
   "cell_type": "code",
   "execution_count": 16,
   "metadata": {},
   "outputs": [
    {
     "data": {
      "text/plain": [
       "2"
      ]
     },
     "execution_count": 16,
     "metadata": {},
     "output_type": "execute_result"
    }
   ],
   "source": [
    "len(a.verts) - len(a.edges) + len(a.faces)"
   ]
  }
 ],
 "metadata": {
  "kernelspec": {
   "display_name": "base",
   "language": "python",
   "name": "python3"
  },
  "language_info": {
   "codemirror_mode": {
    "name": "ipython",
    "version": 3
   },
   "file_extension": ".py",
   "mimetype": "text/x-python",
   "name": "python",
   "nbconvert_exporter": "python",
   "pygments_lexer": "ipython3",
   "version": "3.11.5"
  }
 },
 "nbformat": 4,
 "nbformat_minor": 2
}
